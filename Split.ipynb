{
 "cells": [
  {
   "cell_type": "code",
   "execution_count": 1,
   "id": "32db9198",
   "metadata": {},
   "outputs": [],
   "source": [
    "import splitfolders"
   ]
  },
  {
   "cell_type": "code",
   "execution_count": 2,
   "id": "2d7c5330",
   "metadata": {},
   "outputs": [],
   "source": [
    "input_folder = 'DATASET'"
   ]
  },
  {
   "cell_type": "code",
   "execution_count": 4,
   "id": "71629cb1",
   "metadata": {},
   "outputs": [],
   "source": [
    "splitfolders.ratio(input_folder, output=\"SARDataset\",seed=42, ratio=(.8,.2),group_prefix = None)"
   ]
  },
  {
   "cell_type": "code",
   "execution_count": null,
   "id": "fd898fb8",
   "metadata": {},
   "outputs": [],
   "source": []
  }
 ],
 "metadata": {
  "kernelspec": {
   "display_name": "Python 3 (ipykernel)",
   "language": "python",
   "name": "python3"
  },
  "language_info": {
   "codemirror_mode": {
    "name": "ipython",
    "version": 3
   },
   "file_extension": ".py",
   "mimetype": "text/x-python",
   "name": "python",
   "nbconvert_exporter": "python",
   "pygments_lexer": "ipython3",
   "version": "3.10.2"
  }
 },
 "nbformat": 4,
 "nbformat_minor": 5
}
