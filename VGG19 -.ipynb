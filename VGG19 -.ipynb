{
 "cells": [
  {
   "cell_type": "code",
   "execution_count": 1,
   "metadata": {},
   "outputs": [],
   "source": [
    "from tensorflow.keras.layers import Input, Lambda, Dense, Flatten\n",
    "from tensorflow.keras.models import Model\n",
    "from tensorflow.keras.applications.vgg19 import VGG19\n",
    "from tensorflow.keras.applications.vgg19 import preprocess_input\n",
    "from tensorflow.keras.preprocessing import image\n",
    "from tensorflow.keras.preprocessing.image import ImageDataGenerator, load_img\n",
    "from tensorflow.keras.models import Sequential\n",
    "\n",
    "import numpy as np\n",
    "from glob import glob\n",
    "import matplotlib.pyplot as plt"
   ]
  },
  {
   "cell_type": "code",
   "execution_count": 11,
   "metadata": {},
   "outputs": [],
   "source": [
    "DATADIR = 'Dataset2'\n",
    "\n",
    "IMAGE_SIZE = [128, 128]\n",
    " \n",
    "train_path = DATADIR+'/train'\n",
    "valid_path = DATADIR+'/test'"
   ]
  },
  {
   "cell_type": "code",
   "execution_count": 12,
   "metadata": {},
   "outputs": [],
   "source": [
    "labels = ['2S1','BRDM_2','BTR_60','D7','SLICY','T62','ZIL131','ZSU_23_4']"
   ]
  },
  {
   "cell_type": "code",
   "execution_count": 13,
   "metadata": {},
   "outputs": [],
   "source": [
    "vgg19 = VGG19(input_shape=IMAGE_SIZE + [3], \n",
    "              weights='imagenet',\n",
    "              include_top=False)"
   ]
  },
  {
   "cell_type": "code",
   "execution_count": 14,
   "metadata": {},
   "outputs": [],
   "source": [
    "for layer in vgg19.layers:\n",
    "    layer.trainable = False"
   ]
  },
  {
   "cell_type": "code",
   "execution_count": 15,
   "metadata": {},
   "outputs": [
    {
     "name": "stdout",
     "output_type": "stream",
     "text": [
      "8\n"
     ]
    }
   ],
   "source": [
    "num_classes = glob(\"Dataset2/train/*\")\n",
    "num_classes\n",
    "\n",
    "print(len(num_classes))"
   ]
  },
  {
   "cell_type": "code",
   "execution_count": 16,
   "metadata": {},
   "outputs": [
    {
     "name": "stdout",
     "output_type": "stream",
     "text": [
      "Model: \"model_1\"\n",
      "_________________________________________________________________\n",
      " Layer (type)                Output Shape              Param #   \n",
      "=================================================================\n",
      " input_2 (InputLayer)        [(None, 128, 128, 3)]     0         \n",
      "                                                                 \n",
      " block1_conv1 (Conv2D)       (None, 128, 128, 64)      1792      \n",
      "                                                                 \n",
      " block1_conv2 (Conv2D)       (None, 128, 128, 64)      36928     \n",
      "                                                                 \n",
      " block1_pool (MaxPooling2D)  (None, 64, 64, 64)        0         \n",
      "                                                                 \n",
      " block2_conv1 (Conv2D)       (None, 64, 64, 128)       73856     \n",
      "                                                                 \n",
      " block2_conv2 (Conv2D)       (None, 64, 64, 128)       147584    \n",
      "                                                                 \n",
      " block2_pool (MaxPooling2D)  (None, 32, 32, 128)       0         \n",
      "                                                                 \n",
      " block3_conv1 (Conv2D)       (None, 32, 32, 256)       295168    \n",
      "                                                                 \n",
      " block3_conv2 (Conv2D)       (None, 32, 32, 256)       590080    \n",
      "                                                                 \n",
      " block3_conv3 (Conv2D)       (None, 32, 32, 256)       590080    \n",
      "                                                                 \n",
      " block3_conv4 (Conv2D)       (None, 32, 32, 256)       590080    \n",
      "                                                                 \n",
      " block3_pool (MaxPooling2D)  (None, 16, 16, 256)       0         \n",
      "                                                                 \n",
      " block4_conv1 (Conv2D)       (None, 16, 16, 512)       1180160   \n",
      "                                                                 \n",
      " block4_conv2 (Conv2D)       (None, 16, 16, 512)       2359808   \n",
      "                                                                 \n",
      " block4_conv3 (Conv2D)       (None, 16, 16, 512)       2359808   \n",
      "                                                                 \n",
      " block4_conv4 (Conv2D)       (None, 16, 16, 512)       2359808   \n",
      "                                                                 \n",
      " block4_pool (MaxPooling2D)  (None, 8, 8, 512)         0         \n",
      "                                                                 \n",
      " block5_conv1 (Conv2D)       (None, 8, 8, 512)         2359808   \n",
      "                                                                 \n",
      " block5_conv2 (Conv2D)       (None, 8, 8, 512)         2359808   \n",
      "                                                                 \n",
      " block5_conv3 (Conv2D)       (None, 8, 8, 512)         2359808   \n",
      "                                                                 \n",
      " block5_conv4 (Conv2D)       (None, 8, 8, 512)         2359808   \n",
      "                                                                 \n",
      " block5_pool (MaxPooling2D)  (None, 4, 4, 512)         0         \n",
      "                                                                 \n",
      " flatten_1 (Flatten)         (None, 8192)              0         \n",
      "                                                                 \n",
      " dense_1 (Dense)             (None, 8)                 65544     \n",
      "                                                                 \n",
      "=================================================================\n",
      "Total params: 20,089,928\n",
      "Trainable params: 65,544\n",
      "Non-trainable params: 20,024,384\n",
      "_________________________________________________________________\n"
     ]
    }
   ],
   "source": [
    "x = Flatten()(vgg19.output)\n",
    "prediction = Dense(len(num_classes), activation='softmax')(x)\n",
    "model = Model(inputs=vgg19.input, outputs=prediction)\n",
    "# view the structure of the model\n",
    "model.summary()"
   ]
  },
  {
   "cell_type": "code",
   "execution_count": 17,
   "metadata": {},
   "outputs": [],
   "source": [
    "model.compile(\n",
    "  loss='categorical_crossentropy',\n",
    "  optimizer='adam',\n",
    "  metrics=['accuracy']\n",
    "  )"
   ]
  },
  {
   "cell_type": "code",
   "execution_count": 18,
   "metadata": {},
   "outputs": [
    {
     "name": "stdout",
     "output_type": "stream",
     "text": [
      "Found 6623 images belonging to 8 classes.\n",
      "Found 953 images belonging to 8 classes.\n"
     ]
    }
   ],
   "source": [
    "from tensorflow.keras.preprocessing.image import ImageDataGenerator\n",
    " \n",
    "train_datagen = ImageDataGenerator(rescale = 1./255,\n",
    "                                   shear_range = 0.2,\n",
    "                                   zoom_range = 0.2,\n",
    "                                   horizontal_flip = True,\n",
    "                                   )\n",
    " \n",
    "test_datagen = ImageDataGenerator(rescale = 1./255\n",
    "                                  )\n",
    " \n",
    "training_set = train_datagen.flow_from_directory(train_path,\n",
    "                                                 target_size = (IMAGE_SIZE),\n",
    "                                                 batch_size = 32,\n",
    "                                                 class_mode = 'categorical')\n",
    " \n",
    "test_set = test_datagen.flow_from_directory(valid_path,\n",
    "                                            target_size = (IMAGE_SIZE),\n",
    "                                            batch_size = 32,\n",
    "                                            class_mode = 'categorical')"
   ]
  },
  {
   "cell_type": "code",
   "execution_count": 19,
   "metadata": {},
   "outputs": [
    {
     "name": "stdout",
     "output_type": "stream",
     "text": [
      "Epoch 1/50\n",
      "207/207 [==============================] - 44s 196ms/step - loss: 1.1279 - accuracy: 0.5846 - val_loss: 0.9013 - val_accuracy: 0.6663\n",
      "Epoch 2/50\n",
      "207/207 [==============================] - 36s 175ms/step - loss: 0.7597 - accuracy: 0.7281 - val_loss: 0.7515 - val_accuracy: 0.7282\n",
      "Epoch 3/50\n",
      "207/207 [==============================] - 32s 154ms/step - loss: 0.6244 - accuracy: 0.7864 - val_loss: 0.6439 - val_accuracy: 0.7324\n",
      "Epoch 4/50\n",
      "207/207 [==============================] - 32s 153ms/step - loss: 0.5459 - accuracy: 0.8150 - val_loss: 0.5979 - val_accuracy: 0.7692\n",
      "Epoch 5/50\n",
      "207/207 [==============================] - 32s 152ms/step - loss: 0.5056 - accuracy: 0.8300 - val_loss: 0.5070 - val_accuracy: 0.8374\n",
      "Epoch 6/50\n",
      "207/207 [==============================] - 32s 154ms/step - loss: 0.4659 - accuracy: 0.8427 - val_loss: 0.5670 - val_accuracy: 0.7859\n",
      "Epoch 7/50\n",
      "207/207 [==============================] - 32s 153ms/step - loss: 0.4250 - accuracy: 0.8557 - val_loss: 0.5033 - val_accuracy: 0.8164\n",
      "Epoch 8/50\n",
      "207/207 [==============================] - 32s 155ms/step - loss: 0.4015 - accuracy: 0.8617 - val_loss: 0.4683 - val_accuracy: 0.8426\n",
      "Epoch 9/50\n",
      "207/207 [==============================] - 32s 154ms/step - loss: 0.3849 - accuracy: 0.8723 - val_loss: 0.5551 - val_accuracy: 0.7933\n",
      "Epoch 10/50\n",
      "207/207 [==============================] - 32s 155ms/step - loss: 0.3665 - accuracy: 0.8778 - val_loss: 0.4284 - val_accuracy: 0.8478\n",
      "Epoch 11/50\n",
      "207/207 [==============================] - 32s 155ms/step - loss: 0.3484 - accuracy: 0.8865 - val_loss: 0.5195 - val_accuracy: 0.7943\n",
      "Epoch 12/50\n",
      "207/207 [==============================] - 32s 155ms/step - loss: 0.3316 - accuracy: 0.8872 - val_loss: 0.4597 - val_accuracy: 0.8300\n",
      "Epoch 13/50\n",
      "207/207 [==============================] - 32s 155ms/step - loss: 0.3335 - accuracy: 0.8883 - val_loss: 0.4380 - val_accuracy: 0.8395\n",
      "Epoch 14/50\n",
      "207/207 [==============================] - 32s 155ms/step - loss: 0.3214 - accuracy: 0.8898 - val_loss: 0.4997 - val_accuracy: 0.8111\n",
      "Epoch 15/50\n",
      "207/207 [==============================] - 33s 162ms/step - loss: 0.3031 - accuracy: 0.8981 - val_loss: 0.5594 - val_accuracy: 0.7912\n",
      "Epoch 16/50\n",
      "207/207 [==============================] - 34s 162ms/step - loss: 0.2950 - accuracy: 0.8994 - val_loss: 0.5082 - val_accuracy: 0.7922\n",
      "Epoch 17/50\n",
      "207/207 [==============================] - 32s 157ms/step - loss: 0.2910 - accuracy: 0.9059 - val_loss: 0.4629 - val_accuracy: 0.8227\n",
      "Epoch 18/50\n",
      "207/207 [==============================] - 32s 155ms/step - loss: 0.2933 - accuracy: 0.8987 - val_loss: 0.5093 - val_accuracy: 0.8038\n",
      "Epoch 19/50\n",
      "207/207 [==============================] - 32s 155ms/step - loss: 0.2647 - accuracy: 0.9121 - val_loss: 0.3782 - val_accuracy: 0.8615\n",
      "Epoch 20/50\n",
      "207/207 [==============================] - 32s 155ms/step - loss: 0.2606 - accuracy: 0.9194 - val_loss: 0.4800 - val_accuracy: 0.8227\n",
      "Epoch 21/50\n",
      "207/207 [==============================] - 32s 155ms/step - loss: 0.2616 - accuracy: 0.9124 - val_loss: 0.5719 - val_accuracy: 0.7744\n",
      "Epoch 22/50\n",
      "207/207 [==============================] - 32s 154ms/step - loss: 0.2520 - accuracy: 0.9167 - val_loss: 0.5360 - val_accuracy: 0.7933\n",
      "Epoch 23/50\n",
      "207/207 [==============================] - 32s 155ms/step - loss: 0.2485 - accuracy: 0.9203 - val_loss: 0.3738 - val_accuracy: 0.8678\n",
      "Epoch 24/50\n",
      "207/207 [==============================] - 32s 155ms/step - loss: 0.2672 - accuracy: 0.9067 - val_loss: 0.4089 - val_accuracy: 0.8468\n",
      "Epoch 25/50\n",
      "207/207 [==============================] - 32s 156ms/step - loss: 0.2515 - accuracy: 0.9145 - val_loss: 0.5449 - val_accuracy: 0.7901\n",
      "Epoch 26/50\n",
      "207/207 [==============================] - 32s 155ms/step - loss: 0.2272 - accuracy: 0.9228 - val_loss: 0.5301 - val_accuracy: 0.7912\n",
      "Epoch 27/50\n",
      "207/207 [==============================] - 32s 155ms/step - loss: 0.2334 - accuracy: 0.9216 - val_loss: 0.5540 - val_accuracy: 0.7828\n",
      "Epoch 28/50\n",
      "207/207 [==============================] - 32s 157ms/step - loss: 0.2310 - accuracy: 0.9227 - val_loss: 0.5603 - val_accuracy: 0.7786\n",
      "Epoch 29/50\n",
      "207/207 [==============================] - 33s 157ms/step - loss: 0.2233 - accuracy: 0.9247 - val_loss: 0.3583 - val_accuracy: 0.8625\n",
      "Epoch 30/50\n",
      "207/207 [==============================] - 32s 153ms/step - loss: 0.2200 - accuracy: 0.9260 - val_loss: 0.5819 - val_accuracy: 0.7744\n",
      "Epoch 31/50\n",
      "207/207 [==============================] - 32s 154ms/step - loss: 0.2332 - accuracy: 0.9210 - val_loss: 0.3523 - val_accuracy: 0.8720\n",
      "Epoch 32/50\n",
      "207/207 [==============================] - 32s 153ms/step - loss: 0.2131 - accuracy: 0.9287 - val_loss: 0.4605 - val_accuracy: 0.8332\n",
      "Epoch 33/50\n",
      "207/207 [==============================] - 32s 153ms/step - loss: 0.2060 - accuracy: 0.9295 - val_loss: 0.3887 - val_accuracy: 0.8552\n",
      "Epoch 34/50\n",
      "207/207 [==============================] - 32s 154ms/step - loss: 0.1966 - accuracy: 0.9348 - val_loss: 0.5785 - val_accuracy: 0.7775\n",
      "Epoch 35/50\n",
      "207/207 [==============================] - 32s 155ms/step - loss: 0.2007 - accuracy: 0.9343 - val_loss: 0.3915 - val_accuracy: 0.8552\n",
      "Epoch 36/50\n",
      "207/207 [==============================] - 32s 155ms/step - loss: 0.2003 - accuracy: 0.9345 - val_loss: 0.3710 - val_accuracy: 0.8541\n",
      "Epoch 37/50\n",
      "207/207 [==============================] - 32s 155ms/step - loss: 0.2046 - accuracy: 0.9298 - val_loss: 0.4727 - val_accuracy: 0.8185\n",
      "Epoch 38/50\n",
      "207/207 [==============================] - 32s 154ms/step - loss: 0.1995 - accuracy: 0.9322 - val_loss: 0.4073 - val_accuracy: 0.8478\n",
      "Epoch 39/50\n",
      "207/207 [==============================] - 32s 154ms/step - loss: 0.2010 - accuracy: 0.9321 - val_loss: 0.4157 - val_accuracy: 0.8510\n",
      "Epoch 40/50\n",
      "207/207 [==============================] - 32s 154ms/step - loss: 0.2041 - accuracy: 0.9310 - val_loss: 0.4619 - val_accuracy: 0.8290\n",
      "Epoch 41/50\n",
      "207/207 [==============================] - 32s 154ms/step - loss: 0.1846 - accuracy: 0.9355 - val_loss: 0.3304 - val_accuracy: 0.8804\n",
      "Epoch 42/50\n",
      "207/207 [==============================] - 32s 154ms/step - loss: 0.1833 - accuracy: 0.9385 - val_loss: 0.3295 - val_accuracy: 0.8772\n",
      "Epoch 43/50\n",
      "207/207 [==============================] - 32s 154ms/step - loss: 0.1827 - accuracy: 0.9402 - val_loss: 0.5205 - val_accuracy: 0.8143\n",
      "Epoch 44/50\n",
      "207/207 [==============================] - 32s 154ms/step - loss: 0.1844 - accuracy: 0.9381 - val_loss: 0.5520 - val_accuracy: 0.7849\n",
      "Epoch 45/50\n",
      "207/207 [==============================] - 32s 154ms/step - loss: 0.1737 - accuracy: 0.9431 - val_loss: 0.4163 - val_accuracy: 0.8510\n",
      "Epoch 46/50\n",
      "207/207 [==============================] - 32s 156ms/step - loss: 0.1637 - accuracy: 0.9461 - val_loss: 0.5759 - val_accuracy: 0.7954\n",
      "Epoch 47/50\n",
      "207/207 [==============================] - 32s 154ms/step - loss: 0.1742 - accuracy: 0.9437 - val_loss: 0.4712 - val_accuracy: 0.8195\n",
      "Epoch 48/50\n",
      "207/207 [==============================] - 32s 154ms/step - loss: 0.1770 - accuracy: 0.9417 - val_loss: 0.4700 - val_accuracy: 0.8185\n",
      "Epoch 49/50\n",
      "207/207 [==============================] - 32s 154ms/step - loss: 0.1745 - accuracy: 0.9426 - val_loss: 0.4076 - val_accuracy: 0.8510\n",
      "Epoch 50/50\n",
      "207/207 [==============================] - 32s 155ms/step - loss: 0.1671 - accuracy: 0.9420 - val_loss: 0.4779 - val_accuracy: 0.8227\n"
     ]
    }
   ],
   "source": [
    "history = model.fit(\n",
    "    training_set,\n",
    "    validation_data = test_set,\n",
    "    epochs=50,\n",
    "    steps_per_epoch = len(training_set),\n",
    "    validation_steps = len(test_set)\n",
    ")"
   ]
  },
  {
   "cell_type": "code",
   "execution_count": 20,
   "metadata": {},
   "outputs": [
    {
     "data": {
      "image/png": "[encoded data removed]",
      "text/plain": [
       "<Figure size 432x288 with 1 Axes>"
      ]
     },
     "metadata": {
      "needs_background": "light"
     },
     "output_type": "display_data"
    },
    {
     "data": {
      "image/png": "[encoded data removed]",
      "text/plain": [
       "<Figure size 432x288 with 1 Axes>"
      ]
     },
     "metadata": {
      "needs_background": "light"
     },
     "output_type": "display_data"
    }
   ],
   "source": [
    "import matplotlib.pyplot as plt\n",
    "# plot the accuracy\n",
    "plt.plot(history.history['accuracy'], label='training acc')\n",
    "plt.plot(history.history['val_accuracy'], label='validation acc')\n",
    "plt.title('Training and Validation Accuracy')\n",
    "plt.ylabel(\"Accuracy\")\n",
    "plt.xlabel(\"Epoch\")\n",
    "plt.legend()\n",
    "plt.show()\n",
    "#plt.savefig('AccVal_acc')\n",
    " \n",
    "# plot the loss\n",
    "plt.plot(history.history['loss'], label='training loss')\n",
    "plt.plot(history.history['val_loss'], label='validation loss')\n",
    "plt.title('Training and Validation Loss')\n",
    "plt.ylabel(\"Accuracy\")\n",
    "plt.xlabel(\"Epoch\")\n",
    "plt.legend()\n",
    "plt.show()\n",
    "#plt.savefig('LossVal_loss')"
   ]
  },
  {
   "cell_type": "code",
   "execution_count": 21,
   "metadata": {},
   "outputs": [
    {
     "name": "stdout",
     "output_type": "stream",
     "text": [
      "30/30 [==============================] - 2s 64ms/step - loss: 0.4779 - accuracy: 0.8227\n"
     ]
    },
    {
     "data": {
      "text/plain": [
       "[0.47789889574050903, 0.822665274143219]"
      ]
     },
     "execution_count": 21,
     "metadata": {},
     "output_type": "execute_result"
    }
   ],
   "source": [
    "model.evaluate(test_set)"
   ]
  },
  {
   "cell_type": "code",
   "execution_count": null,
   "metadata": {},
   "outputs": [],
   "source": []
  },
  {
   "cell_type": "code",
   "execution_count": null,
   "metadata": {},
   "outputs": [],
   "source": []
  },
  {
   "cell_type": "code",
   "execution_count": null,
   "metadata": {},
   "outputs": [],
   "source": []
  },
  {
   "cell_type": "code",
   "execution_count": null,
   "metadata": {},
   "outputs": [],
   "source": []
  },
  {
   "cell_type": "code",
   "execution_count": null,
   "metadata": {},
   "outputs": [],
   "source": []
  },
  {
   "cell_type": "code",
   "execution_count": 10,
   "metadata": {},
   "outputs": [],
   "source": [
    "from tensorflow.keras.layers import Input, Lambda, Dense, Flatten\n",
    "from tensorflow.keras.models import Model\n",
    "from tensorflow.keras.applications.vgg19 import VGG19\n",
    "from tensorflow.keras.applications.vgg19 import preprocess_input"
   ]
  },
  {
   "cell_type": "code",
   "execution_count": 11,
   "metadata": {},
   "outputs": [],
   "source": [
    "def create_model():\n",
    "    vgg19 = VGG19(input_shape=[img_size,img_size]+[3], weights='imagenet', include_top=False)\n",
    "    for layer in vgg19.layers:\n",
    "        layer.trainable = False\n",
    "#     x = Conv2D(64, (3,3), padding='same', activation='relu')(vgg19.input)\n",
    "#     x = Conv2D(64, (3,3), padding='same', activation='relu')(x)\n",
    "    \n",
    "    x = Flatten()(vgg19.output)\n",
    "    x = Dense(512, activation='relu')(x)\n",
    "    x = Dense(256, activation='relu')(x)\n",
    "    x = Dense(128, activation='relu')(x)\n",
    "    x = Dense(64, activation='relu')(x)\n",
    "    prediction = Dense(8, activation='softmax')(x)\n",
    "    # create a model object\n",
    "    model = Model(inputs=vgg19.input, outputs=prediction)\n",
    "    return model"
   ]
  },
  {
   "cell_type": "code",
   "execution_count": 12,
   "metadata": {},
   "outputs": [],
   "source": [
    "# vgg19 = VGG19(input_shape=[img_size,img_size]+[3], weights='imagenet', include_top=False)"
   ]
  },
  {
   "cell_type": "code",
   "execution_count": 13,
   "metadata": {},
   "outputs": [],
   "source": [
    "# don't train existing weights\n",
    "# for layer in vgg19.layers:\n",
    "#     layer.trainable = False"
   ]
  },
  {
   "cell_type": "code",
   "execution_count": 14,
   "metadata": {},
   "outputs": [],
   "source": [
    "# our layers - you can add more if you want\n",
    "# x = Flatten()(vgg19.output)"
   ]
  },
  {
   "cell_type": "code",
   "execution_count": 15,
   "metadata": {},
   "outputs": [],
   "source": [
    "# prediction = Dense(8, activation='softmax')(x)\n",
    "\n",
    "# create a model object\n",
    "# model = Model(inputs=vgg19.input, outputs=prediction)"
   ]
  },
  {
   "cell_type": "code",
   "execution_count": 16,
   "metadata": {},
   "outputs": [],
   "source": [
    "# model = create_model()\n",
    "# model.summary()"
   ]
  },
  {
   "cell_type": "code",
   "execution_count": null,
   "metadata": {},
   "outputs": [],
   "source": []
  },
  {
   "cell_type": "code",
   "execution_count": 17,
   "metadata": {},
   "outputs": [],
   "source": [
    "# # Building the Model Architecture\n",
    "# model = Sequential()\n",
    "\n",
    "\n",
    "# model.add(Conv2D(64, kernel_size=(3, 3), activation='relu', input_shape=(64,64,3)))\n",
    "# model.add(Conv2D(64, kernel_size=(3, 3), activation='relu'))\n",
    "# model.add(MaxPooling2D(pool_size=(2, 2)))\n",
    "\n",
    "# model.add(Conv2D(128, kernel_size=(3, 3), activation='relu'))\n",
    "# model.add(Conv2D(128, kernel_size=(3, 3), activation='relu'))\n",
    "# model.add(MaxPooling2D(pool_size=(2, 2)))\n",
    "\n",
    "# model.add(Conv2D(256, kernel_size=(3, 3), activation='relu'))\n",
    "# model.add(Conv2D(256, kernel_size=(3, 3), activation='relu'))\n",
    "# model.add(Conv2D(256, kernel_size=(3, 3), activation='relu'))\n",
    "# model.add(MaxPooling2D(pool_size=(2, 2)))\n",
    "\n",
    "# model.add(Conv2D(512, kernel_size=(3, 3), activation='relu'))\n",
    "# model.add(Conv2D(512, kernel_size=(1, 1), activation='relu'))\n",
    "# model.add(Conv2D(512, kernel_size=(1, 1), activation='relu'))\n",
    "# model.add(MaxPooling2D(pool_size=(1, 1)))\n",
    "\n",
    "# model.add(Conv2D(512, kernel_size=(1, 1), activation='relu'))\n",
    "# model.add(Conv2D(512, kernel_size=(1, 1), activation='relu'))\n",
    "# model.add(Conv2D(512, kernel_size=(1, 1), activation='relu'))\n",
    "# model.add(MaxPooling2D(pool_size=(1, 1)))\n",
    "\n",
    "# model.add(Flatten())\n",
    "# model.add(Dense(4000,activation=\"relu\"))\n",
    "# model.add(Dense(1000,activation=\"relu\"))\n",
    "# model.add(Dense(100,activation=\"relu\"))\n",
    "# model.add(Dense(8, activation=\"sigmoid\"))"
   ]
  },
  {
   "cell_type": "code",
   "execution_count": 18,
   "metadata": {},
   "outputs": [
    {
     "name": "stdout",
     "output_type": "stream",
     "text": [
      "Model: \"model\"\n",
      "_________________________________________________________________\n",
      " Layer (type)                Output Shape              Param #   \n",
      "=================================================================\n",
      " input_1 (InputLayer)        [(None, 64, 64, 3)]       0         \n",
      "                                                                 \n",
      " block1_conv1 (Conv2D)       (None, 64, 64, 64)        1792      \n",
      "                                                                 \n",
      " block1_conv2 (Conv2D)       (None, 64, 64, 64)        36928     \n",
      "                                                                 \n",
      " block1_pool (MaxPooling2D)  (None, 32, 32, 64)        0         \n",
      "                                                                 \n",
      " block2_conv1 (Conv2D)       (None, 32, 32, 128)       73856     \n",
      "                                                                 \n",
      " block2_conv2 (Conv2D)       (None, 32, 32, 128)       147584    \n",
      "                                                                 \n",
      " block2_pool (MaxPooling2D)  (None, 16, 16, 128)       0         \n",
      "                                                                 \n",
      " block3_conv1 (Conv2D)       (None, 16, 16, 256)       295168    \n",
      "                                                                 \n",
      " block3_conv2 (Conv2D)       (None, 16, 16, 256)       590080    \n",
      "                                                                 \n",
      " block3_conv3 (Conv2D)       (None, 16, 16, 256)       590080    \n",
      "                                                                 \n",
      " block3_conv4 (Conv2D)       (None, 16, 16, 256)       590080    \n",
      "                                                                 \n",
      " block3_pool (MaxPooling2D)  (None, 8, 8, 256)         0         \n",
      "                                                                 \n",
      " block4_conv1 (Conv2D)       (None, 8, 8, 512)         1180160   \n",
      "                                                                 \n",
      " block4_conv2 (Conv2D)       (None, 8, 8, 512)         2359808   \n",
      "                                                                 \n",
      " block4_conv3 (Conv2D)       (None, 8, 8, 512)         2359808   \n",
      "                                                                 \n",
      " block4_conv4 (Conv2D)       (None, 8, 8, 512)         2359808   \n",
      "                                                                 \n",
      " block4_pool (MaxPooling2D)  (None, 4, 4, 512)         0         \n",
      "                                                                 \n",
      " block5_conv1 (Conv2D)       (None, 4, 4, 512)         2359808   \n",
      "                                                                 \n",
      " block5_conv2 (Conv2D)       (None, 4, 4, 512)         2359808   \n",
      "                                                                 \n",
      " block5_conv3 (Conv2D)       (None, 4, 4, 512)         2359808   \n",
      "                                                                 \n",
      " block5_conv4 (Conv2D)       (None, 4, 4, 512)         2359808   \n",
      "                                                                 \n",
      " block5_pool (MaxPooling2D)  (None, 2, 2, 512)         0         \n",
      "                                                                 \n",
      " flatten (Flatten)           (None, 2048)              0         \n",
      "                                                                 \n",
      " dense (Dense)               (None, 512)               1049088   \n",
      "                                                                 \n",
      " dense_1 (Dense)             (None, 256)               131328    \n",
      "                                                                 \n",
      " dense_2 (Dense)             (None, 128)               32896     \n",
      "                                                                 \n",
      " dense_3 (Dense)             (None, 64)                8256      \n",
      "                                                                 \n",
      " dense_4 (Dense)             (None, 8)                 520       \n",
      "                                                                 \n",
      "=================================================================\n",
      "Total params: 21,246,472\n",
      "Trainable params: 1,222,088\n",
      "Non-trainable params: 20,024,384\n",
      "_________________________________________________________________\n"
     ]
    },
    {
     "name": "stderr",
     "output_type": "stream",
     "text": [
      "C:\\Users\\Chlangdiam Sumer\\AppData\\Local\\Programs\\Python\\Python310\\lib\\site-packages\\keras\\optimizers\\optimizer_v2\\gradient_descent.py:111: UserWarning: The `lr` argument is deprecated, use `learning_rate` instead.\n",
      "  super().__init__(name, **kwargs)\n"
     ]
    },
    {
     "name": "stdout",
     "output_type": "stream",
     "text": [
      "Train size: 6623\n",
      "Test size: 953\n"
     ]
    }
   ],
   "source": [
    "model = create_model()\n",
    "model.compile(\n",
    "    loss='sparse_categorical_crossentropy',\n",
    "    optimizer=tf.optimizers.SGD(lr=0.000001),\n",
    "    metrics=['accuracy']    \n",
    ")\n",
    "\n",
    "model.summary()\n",
    "\n",
    "\n",
    "train_ds=tf.data.Dataset.from_tensor_slices((x_train,y_train))\n",
    "test_ds=tf.data.Dataset.from_tensor_slices((x_val,y_val))\n",
    "\n",
    "def process_image(image,label):\n",
    "    image=tf.image.per_image_standardization(image)\n",
    "    image=tf.image.resize(image,(64,64))\n",
    "    \n",
    "    return image,label\n",
    "\n",
    "\n",
    "\n",
    "train_ds_size=tf.data.experimental.cardinality(train_ds).numpy()\n",
    "test_ds_size=tf.data.experimental.cardinality(test_ds).numpy()\n",
    "print('Train size:',train_ds_size)\n",
    "print('Test size:',test_ds_size)\n",
    "\n",
    "train_ds=(train_ds\n",
    "          .map(process_image)\n",
    "          .shuffle(buffer_size=train_ds_size)\n",
    "          .batch(batch_size=64,drop_remainder=True)\n",
    "         )\n",
    "test_ds=(test_ds\n",
    "          .map(process_image)\n",
    "          .shuffle(buffer_size=test_ds_size)\n",
    "          .batch(batch_size=64,drop_remainder=True)\n",
    "         )"
   ]
  },
  {
   "cell_type": "code",
   "execution_count": 19,
   "metadata": {},
   "outputs": [
    {
     "name": "stderr",
     "output_type": "stream",
     "text": [
      "C:\\Users\\Chlangdiam Sumer\\AppData\\Local\\Programs\\Python\\Python310\\lib\\site-packages\\keras\\optimizers\\optimizer_v2\\adam.py:114: UserWarning: The `lr` argument is deprecated, use `learning_rate` instead.\n",
      "  super().__init__(name, **kwargs)\n"
     ]
    }
   ],
   "source": [
    "from keras.optimizers import Adam\n",
    "opt = Adam(lr=0.000001)\n",
    "model.compile(optimizer = opt , loss = tf.keras.losses.SparseCategoricalCrossentropy(from_logits=True) , metrics = ['accuracy'])"
   ]
  },
  {
   "cell_type": "code",
   "execution_count": 20,
   "metadata": {},
   "outputs": [
    {
     "name": "stdout",
     "output_type": "stream",
     "text": [
      "Epoch 1/100\n"
     ]
    },
    {
     "name": "stderr",
     "output_type": "stream",
     "text": [
      "C:\\Users\\Chlangdiam Sumer\\AppData\\Local\\Programs\\Python\\Python310\\lib\\site-packages\\keras\\backend.py:5582: UserWarning: \"`sparse_categorical_crossentropy` received `from_logits=True`, but the `output` argument was produced by a Softmax activation and thus does not represent logits. Was this intended?\n",
      "  output, from_logits = _get_logits(\n"
     ]
    },
    {
     "name": "stdout",
     "output_type": "stream",
     "text": [
      "207/207 [==============================] - 19s 45ms/step - loss: 2.1208 - accuracy: 0.1495 - val_loss: 2.0930 - val_accuracy: 0.1490\n",
      "Epoch 2/100\n",
      "207/207 [==============================] - 7s 32ms/step - loss: 2.0642 - accuracy: 0.1496 - val_loss: 2.0444 - val_accuracy: 0.1501\n",
      "Epoch 3/100\n",
      "207/207 [==============================] - 7s 32ms/step - loss: 2.0254 - accuracy: 0.1504 - val_loss: 2.0093 - val_accuracy: 0.1501\n",
      "Epoch 4/100\n",
      "207/207 [==============================] - 7s 32ms/step - loss: 1.9948 - accuracy: 0.1530 - val_loss: 1.9784 - val_accuracy: 0.1731\n",
      "Epoch 5/100\n",
      "207/207 [==============================] - 7s 32ms/step - loss: 1.9665 - accuracy: 0.1797 - val_loss: 1.9487 - val_accuracy: 0.2162\n",
      "Epoch 6/100\n",
      "207/207 [==============================] - 7s 32ms/step - loss: 1.9396 - accuracy: 0.2124 - val_loss: 1.9208 - val_accuracy: 0.2508\n",
      "Epoch 7/100\n",
      "207/207 [==============================] - 7s 32ms/step - loss: 1.9144 - accuracy: 0.2491 - val_loss: 1.8951 - val_accuracy: 0.2697\n",
      "Epoch 8/100\n",
      "207/207 [==============================] - 7s 32ms/step - loss: 1.8911 - accuracy: 0.2570 - val_loss: 1.8713 - val_accuracy: 0.2802\n",
      "Epoch 9/100\n",
      "207/207 [==============================] - 7s 32ms/step - loss: 1.8689 - accuracy: 0.2819 - val_loss: 1.8486 - val_accuracy: 0.3211\n",
      "Epoch 10/100\n",
      "207/207 [==============================] - 7s 32ms/step - loss: 1.8473 - accuracy: 0.3331 - val_loss: 1.8258 - val_accuracy: 0.3715\n",
      "Epoch 11/100\n",
      "207/207 [==============================] - 7s 32ms/step - loss: 1.8258 - accuracy: 0.3699 - val_loss: 1.8042 - val_accuracy: 0.4040\n",
      "Epoch 12/100\n",
      "207/207 [==============================] - 7s 33ms/step - loss: 1.8049 - accuracy: 0.3992 - val_loss: 1.7830 - val_accuracy: 0.4187\n",
      "Epoch 13/100\n",
      "207/207 [==============================] - 7s 33ms/step - loss: 1.7836 - accuracy: 0.4089 - val_loss: 1.7620 - val_accuracy: 0.4208\n",
      "Epoch 14/100\n",
      "207/207 [==============================] - 7s 33ms/step - loss: 1.7632 - accuracy: 0.4204 - val_loss: 1.7419 - val_accuracy: 0.4334\n",
      "Epoch 15/100\n",
      "207/207 [==============================] - 7s 33ms/step - loss: 1.7436 - accuracy: 0.4345 - val_loss: 1.7230 - val_accuracy: 0.4365\n",
      "Epoch 16/100\n",
      "207/207 [==============================] - 7s 32ms/step - loss: 1.7253 - accuracy: 0.4365 - val_loss: 1.7045 - val_accuracy: 0.4470\n",
      "Epoch 17/100\n",
      "207/207 [==============================] - 7s 32ms/step - loss: 1.7078 - accuracy: 0.4489 - val_loss: 1.6871 - val_accuracy: 0.4512\n",
      "Epoch 18/100\n",
      "207/207 [==============================] - 7s 32ms/step - loss: 1.6907 - accuracy: 0.4555 - val_loss: 1.6700 - val_accuracy: 0.4533\n",
      "Epoch 19/100\n",
      "207/207 [==============================] - 7s 32ms/step - loss: 1.6732 - accuracy: 0.4667 - val_loss: 1.6510 - val_accuracy: 0.4617\n",
      "Epoch 20/100\n",
      "207/207 [==============================] - 7s 32ms/step - loss: 1.6542 - accuracy: 0.4726 - val_loss: 1.6327 - val_accuracy: 0.4669\n",
      "Epoch 21/100\n",
      "207/207 [==============================] - 7s 32ms/step - loss: 1.6368 - accuracy: 0.4764 - val_loss: 1.6156 - val_accuracy: 0.4753\n",
      "Epoch 22/100\n",
      "207/207 [==============================] - 7s 32ms/step - loss: 1.6202 - accuracy: 0.4803 - val_loss: 1.5996 - val_accuracy: 0.4764\n",
      "Epoch 23/100\n",
      "207/207 [==============================] - 7s 32ms/step - loss: 1.6046 - accuracy: 0.4826 - val_loss: 1.5844 - val_accuracy: 0.4753\n",
      "Epoch 24/100\n",
      "207/207 [==============================] - 7s 32ms/step - loss: 1.5899 - accuracy: 0.4823 - val_loss: 1.5698 - val_accuracy: 0.4753\n",
      "Epoch 25/100\n",
      "207/207 [==============================] - 7s 32ms/step - loss: 1.5757 - accuracy: 0.4892 - val_loss: 1.5557 - val_accuracy: 0.4732\n",
      "Epoch 26/100\n",
      "207/207 [==============================] - 7s 32ms/step - loss: 1.5619 - accuracy: 0.4872 - val_loss: 1.5420 - val_accuracy: 0.4774\n",
      "Epoch 27/100\n",
      "207/207 [==============================] - 7s 32ms/step - loss: 1.5484 - accuracy: 0.4951 - val_loss: 1.5284 - val_accuracy: 0.4764\n",
      "Epoch 28/100\n",
      "207/207 [==============================] - 7s 32ms/step - loss: 1.5352 - accuracy: 0.4933 - val_loss: 1.5152 - val_accuracy: 0.4806\n",
      "Epoch 29/100\n",
      "207/207 [==============================] - 7s 32ms/step - loss: 1.5225 - accuracy: 0.4974 - val_loss: 1.5026 - val_accuracy: 0.4827\n",
      "Epoch 30/100\n",
      "207/207 [==============================] - 7s 32ms/step - loss: 1.5099 - accuracy: 0.5008 - val_loss: 1.4901 - val_accuracy: 0.4890\n",
      "Epoch 31/100\n",
      "207/207 [==============================] - 7s 32ms/step - loss: 1.4976 - accuracy: 0.5096 - val_loss: 1.4778 - val_accuracy: 0.4911\n",
      "Epoch 32/100\n",
      "207/207 [==============================] - 7s 32ms/step - loss: 1.4857 - accuracy: 0.5087 - val_loss: 1.4659 - val_accuracy: 0.4953\n",
      "Epoch 33/100\n",
      "207/207 [==============================] - 7s 33ms/step - loss: 1.4743 - accuracy: 0.5119 - val_loss: 1.4548 - val_accuracy: 0.5005\n",
      "Epoch 34/100\n",
      "207/207 [==============================] - 7s 32ms/step - loss: 1.4633 - accuracy: 0.5138 - val_loss: 1.4441 - val_accuracy: 0.5047\n",
      "Epoch 35/100\n",
      "207/207 [==============================] - 7s 32ms/step - loss: 1.4529 - accuracy: 0.5168 - val_loss: 1.4338 - val_accuracy: 0.5089\n",
      "Epoch 36/100\n",
      "207/207 [==============================] - 7s 32ms/step - loss: 1.4428 - accuracy: 0.5224 - val_loss: 1.4236 - val_accuracy: 0.5100\n",
      "Epoch 37/100\n",
      "207/207 [==============================] - 7s 32ms/step - loss: 1.4332 - accuracy: 0.5232 - val_loss: 1.4139 - val_accuracy: 0.5163\n",
      "Epoch 38/100\n",
      "207/207 [==============================] - 7s 32ms/step - loss: 1.4237 - accuracy: 0.5282 - val_loss: 1.4044 - val_accuracy: 0.5236\n",
      "Epoch 39/100\n",
      "207/207 [==============================] - 7s 32ms/step - loss: 1.4144 - accuracy: 0.5328 - val_loss: 1.3953 - val_accuracy: 0.5163\n",
      "Epoch 40/100\n",
      "207/207 [==============================] - 7s 32ms/step - loss: 1.4055 - accuracy: 0.5313 - val_loss: 1.3865 - val_accuracy: 0.5194\n",
      "Epoch 41/100\n",
      "207/207 [==============================] - 7s 32ms/step - loss: 1.3968 - accuracy: 0.5359 - val_loss: 1.3777 - val_accuracy: 0.5205\n",
      "Epoch 42/100\n",
      "207/207 [==============================] - 7s 32ms/step - loss: 1.3883 - accuracy: 0.5380 - val_loss: 1.3690 - val_accuracy: 0.5278\n",
      "Epoch 43/100\n",
      "207/207 [==============================] - 7s 32ms/step - loss: 1.3802 - accuracy: 0.5383 - val_loss: 1.3611 - val_accuracy: 0.5257\n",
      "Epoch 44/100\n",
      "207/207 [==============================] - 7s 32ms/step - loss: 1.3722 - accuracy: 0.5428 - val_loss: 1.3531 - val_accuracy: 0.5247\n",
      "Epoch 45/100\n",
      "207/207 [==============================] - 7s 33ms/step - loss: 1.3644 - accuracy: 0.5413 - val_loss: 1.3453 - val_accuracy: 0.5310\n",
      "Epoch 46/100\n",
      "207/207 [==============================] - 7s 33ms/step - loss: 1.3570 - accuracy: 0.5434 - val_loss: 1.3380 - val_accuracy: 0.5352\n",
      "Epoch 47/100\n",
      "207/207 [==============================] - 7s 33ms/step - loss: 1.3499 - accuracy: 0.5508 - val_loss: 1.3311 - val_accuracy: 0.5383\n",
      "Epoch 48/100\n",
      "207/207 [==============================] - 7s 32ms/step - loss: 1.3430 - accuracy: 0.5473 - val_loss: 1.3241 - val_accuracy: 0.5373\n",
      "Epoch 49/100\n",
      "207/207 [==============================] - 7s 33ms/step - loss: 1.3363 - accuracy: 0.5516 - val_loss: 1.3173 - val_accuracy: 0.5414\n",
      "Epoch 50/100\n",
      "207/207 [==============================] - 7s 32ms/step - loss: 1.3297 - accuracy: 0.5514 - val_loss: 1.3106 - val_accuracy: 0.5414\n",
      "Epoch 51/100\n",
      "207/207 [==============================] - 7s 32ms/step - loss: 1.3233 - accuracy: 0.5534 - val_loss: 1.3042 - val_accuracy: 0.5404\n",
      "Epoch 52/100\n",
      "207/207 [==============================] - 7s 33ms/step - loss: 1.3171 - accuracy: 0.5579 - val_loss: 1.2981 - val_accuracy: 0.5393\n",
      "Epoch 53/100\n",
      "207/207 [==============================] - 7s 32ms/step - loss: 1.3111 - accuracy: 0.5576 - val_loss: 1.2919 - val_accuracy: 0.5467\n",
      "Epoch 54/100\n",
      "207/207 [==============================] - 7s 32ms/step - loss: 1.3049 - accuracy: 0.5605 - val_loss: 1.2861 - val_accuracy: 0.5509\n",
      "Epoch 55/100\n",
      "207/207 [==============================] - 7s 32ms/step - loss: 1.2993 - accuracy: 0.5602 - val_loss: 1.2802 - val_accuracy: 0.5446\n",
      "Epoch 56/100\n",
      "207/207 [==============================] - 7s 32ms/step - loss: 1.2936 - accuracy: 0.5608 - val_loss: 1.2745 - val_accuracy: 0.5509\n",
      "Epoch 57/100\n",
      "207/207 [==============================] - 7s 32ms/step - loss: 1.2880 - accuracy: 0.5626 - val_loss: 1.2688 - val_accuracy: 0.5446\n",
      "Epoch 58/100\n",
      "207/207 [==============================] - 7s 32ms/step - loss: 1.2825 - accuracy: 0.5620 - val_loss: 1.2632 - val_accuracy: 0.5530\n",
      "Epoch 59/100\n",
      "207/207 [==============================] - 7s 32ms/step - loss: 1.2772 - accuracy: 0.5647 - val_loss: 1.2576 - val_accuracy: 0.5519\n",
      "Epoch 60/100\n",
      "207/207 [==============================] - 7s 32ms/step - loss: 1.2719 - accuracy: 0.5652 - val_loss: 1.2526 - val_accuracy: 0.5603\n",
      "Epoch 61/100\n",
      "207/207 [==============================] - 7s 32ms/step - loss: 1.2668 - accuracy: 0.5674 - val_loss: 1.2473 - val_accuracy: 0.5582\n",
      "Epoch 62/100\n",
      "207/207 [==============================] - 7s 32ms/step - loss: 1.2618 - accuracy: 0.5679 - val_loss: 1.2422 - val_accuracy: 0.5603\n",
      "Epoch 63/100\n",
      "207/207 [==============================] - 7s 32ms/step - loss: 1.2570 - accuracy: 0.5695 - val_loss: 1.2374 - val_accuracy: 0.5635\n",
      "Epoch 64/100\n",
      "207/207 [==============================] - 7s 33ms/step - loss: 1.2522 - accuracy: 0.5710 - val_loss: 1.2325 - val_accuracy: 0.5635\n",
      "Epoch 65/100\n",
      "207/207 [==============================] - 7s 33ms/step - loss: 1.2473 - accuracy: 0.5747 - val_loss: 1.2282 - val_accuracy: 0.5593\n",
      "Epoch 66/100\n",
      "207/207 [==============================] - 7s 33ms/step - loss: 1.2428 - accuracy: 0.5747 - val_loss: 1.2234 - val_accuracy: 0.5645\n",
      "Epoch 67/100\n",
      "207/207 [==============================] - 7s 33ms/step - loss: 1.2382 - accuracy: 0.5762 - val_loss: 1.2189 - val_accuracy: 0.5645\n",
      "Epoch 68/100\n",
      "207/207 [==============================] - 7s 33ms/step - loss: 1.2339 - accuracy: 0.5766 - val_loss: 1.2144 - val_accuracy: 0.5666\n",
      "Epoch 69/100\n",
      "207/207 [==============================] - 7s 33ms/step - loss: 1.2293 - accuracy: 0.5777 - val_loss: 1.2100 - val_accuracy: 0.5750\n",
      "Epoch 70/100\n",
      "207/207 [==============================] - 7s 33ms/step - loss: 1.2250 - accuracy: 0.5795 - val_loss: 1.2057 - val_accuracy: 0.5719\n",
      "Epoch 71/100\n",
      "207/207 [==============================] - 7s 32ms/step - loss: 1.2208 - accuracy: 0.5830 - val_loss: 1.2011 - val_accuracy: 0.5698\n",
      "Epoch 72/100\n",
      "207/207 [==============================] - 7s 32ms/step - loss: 1.2167 - accuracy: 0.5831 - val_loss: 1.1969 - val_accuracy: 0.5771\n",
      "Epoch 73/100\n",
      "207/207 [==============================] - 7s 33ms/step - loss: 1.2125 - accuracy: 0.5837 - val_loss: 1.1930 - val_accuracy: 0.5813\n",
      "Epoch 74/100\n",
      "207/207 [==============================] - 7s 33ms/step - loss: 1.2085 - accuracy: 0.5876 - val_loss: 1.1894 - val_accuracy: 0.5729\n",
      "Epoch 75/100\n",
      "207/207 [==============================] - 7s 33ms/step - loss: 1.2047 - accuracy: 0.5880 - val_loss: 1.1848 - val_accuracy: 0.5824\n",
      "Epoch 76/100\n",
      "207/207 [==============================] - 7s 33ms/step - loss: 1.2006 - accuracy: 0.5881 - val_loss: 1.1810 - val_accuracy: 0.5824\n",
      "Epoch 77/100\n",
      "207/207 [==============================] - 7s 32ms/step - loss: 1.1967 - accuracy: 0.5892 - val_loss: 1.1768 - val_accuracy: 0.5845\n",
      "Epoch 78/100\n",
      "207/207 [==============================] - 7s 33ms/step - loss: 1.1929 - accuracy: 0.5917 - val_loss: 1.1731 - val_accuracy: 0.5876\n",
      "Epoch 79/100\n",
      "207/207 [==============================] - 7s 32ms/step - loss: 1.1892 - accuracy: 0.5922 - val_loss: 1.1691 - val_accuracy: 0.5897\n",
      "Epoch 80/100\n",
      "207/207 [==============================] - 7s 32ms/step - loss: 1.1856 - accuracy: 0.5953 - val_loss: 1.1656 - val_accuracy: 0.5866\n",
      "Epoch 81/100\n",
      "207/207 [==============================] - 7s 33ms/step - loss: 1.1819 - accuracy: 0.5947 - val_loss: 1.1619 - val_accuracy: 0.5866\n",
      "Epoch 82/100\n",
      "207/207 [==============================] - 7s 33ms/step - loss: 1.1781 - accuracy: 0.5973 - val_loss: 1.1581 - val_accuracy: 0.5845\n",
      "Epoch 83/100\n",
      "207/207 [==============================] - 7s 33ms/step - loss: 1.1747 - accuracy: 0.5961 - val_loss: 1.1545 - val_accuracy: 0.5897\n",
      "Epoch 84/100\n",
      "207/207 [==============================] - 7s 32ms/step - loss: 1.1711 - accuracy: 0.5994 - val_loss: 1.1510 - val_accuracy: 0.5897\n",
      "Epoch 85/100\n",
      "207/207 [==============================] - 7s 32ms/step - loss: 1.1677 - accuracy: 0.6003 - val_loss: 1.1474 - val_accuracy: 0.5908\n",
      "Epoch 86/100\n",
      "207/207 [==============================] - 7s 32ms/step - loss: 1.1642 - accuracy: 0.6040 - val_loss: 1.1440 - val_accuracy: 0.5929\n",
      "Epoch 87/100\n",
      "207/207 [==============================] - 7s 32ms/step - loss: 1.1607 - accuracy: 0.6055 - val_loss: 1.1408 - val_accuracy: 0.5918\n",
      "Epoch 88/100\n",
      "207/207 [==============================] - 7s 32ms/step - loss: 1.1573 - accuracy: 0.6046 - val_loss: 1.1370 - val_accuracy: 0.5950\n",
      "Epoch 89/100\n",
      "207/207 [==============================] - 7s 32ms/step - loss: 1.1541 - accuracy: 0.6064 - val_loss: 1.1338 - val_accuracy: 0.5918\n",
      "Epoch 90/100\n",
      "207/207 [==============================] - 7s 32ms/step - loss: 1.1507 - accuracy: 0.6083 - val_loss: 1.1304 - val_accuracy: 0.5971\n",
      "Epoch 91/100\n",
      "207/207 [==============================] - 7s 32ms/step - loss: 1.1477 - accuracy: 0.6080 - val_loss: 1.1270 - val_accuracy: 0.6023\n",
      "Epoch 92/100\n",
      "207/207 [==============================] - 7s 32ms/step - loss: 1.1442 - accuracy: 0.6104 - val_loss: 1.1240 - val_accuracy: 0.5950\n",
      "Epoch 93/100\n",
      "207/207 [==============================] - 7s 33ms/step - loss: 1.1411 - accuracy: 0.6111 - val_loss: 1.1210 - val_accuracy: 0.5981\n",
      "Epoch 94/100\n",
      "207/207 [==============================] - 7s 32ms/step - loss: 1.1379 - accuracy: 0.6118 - val_loss: 1.1174 - val_accuracy: 0.6023\n",
      "Epoch 95/100\n",
      "207/207 [==============================] - 7s 33ms/step - loss: 1.1348 - accuracy: 0.6123 - val_loss: 1.1142 - val_accuracy: 0.6034\n",
      "Epoch 96/100\n",
      "207/207 [==============================] - 7s 32ms/step - loss: 1.1317 - accuracy: 0.6139 - val_loss: 1.1109 - val_accuracy: 0.6044\n",
      "Epoch 97/100\n",
      "207/207 [==============================] - 7s 32ms/step - loss: 1.1286 - accuracy: 0.6168 - val_loss: 1.1083 - val_accuracy: 0.6034\n",
      "Epoch 98/100\n",
      "207/207 [==============================] - 7s 32ms/step - loss: 1.1256 - accuracy: 0.6169 - val_loss: 1.1052 - val_accuracy: 0.5992\n",
      "Epoch 99/100\n",
      "207/207 [==============================] - 7s 32ms/step - loss: 1.1225 - accuracy: 0.6171 - val_loss: 1.1021 - val_accuracy: 0.5992\n",
      "Epoch 100/100\n",
      "207/207 [==============================] - 7s 33ms/step - loss: 1.1196 - accuracy: 0.6191 - val_loss: 1.0993 - val_accuracy: 0.6055\n"
     ]
    }
   ],
   "source": [
    "history = model.fit(x_train,y_train,epochs = 100 , validation_data = (x_val, y_val))"
   ]
  },
  {
   "cell_type": "code",
   "execution_count": 21,
   "metadata": {},
   "outputs": [
    {
     "data": {
      "image/png": "[encoded data removed]",
      "text/plain": [
       "<Figure size 432x288 with 1 Axes>"
      ]
     },
     "metadata": {
      "needs_background": "light"
     },
     "output_type": "display_data"
    },
    {
     "data": {
      "image/png": "[encoded data removed]",
      "text/plain": [
       "<Figure size 432x288 with 1 Axes>"
      ]
     },
     "metadata": {
      "needs_background": "light"
     },
     "output_type": "display_data"
    }
   ],
   "source": [
    "import matplotlib.pyplot as plt\n",
    "# plot the accuracy\n",
    "plt.plot(history.history['accuracy'], label='training acc')\n",
    "plt.plot(history.history['val_accuracy'], label='validation acc')\n",
    "plt.title('Training and Validation Accuracy')\n",
    "plt.ylabel(\"Accuracy\")\n",
    "plt.xlabel(\"Epoch\")\n",
    "plt.legend()\n",
    "plt.show()\n",
    "#plt.savefig('AccVal_acc')\n",
    " \n",
    "# plot the loss\n",
    "plt.plot(history.history['loss'], label='training loss')\n",
    "plt.plot(history.history['val_loss'], label='validation loss')\n",
    "plt.title('Training and Validation Loss')\n",
    "plt.ylabel(\"Accuracy\")\n",
    "plt.xlabel(\"Epoch\")\n",
    "plt.legend()\n",
    "plt.show()\n",
    "#plt.savefig('LossVal_loss')"
   ]
  },
  {
   "cell_type": "code",
   "execution_count": 22,
   "metadata": {},
   "outputs": [
    {
     "name": "stdout",
     "output_type": "stream",
     "text": [
      "30/30 [==============================] - 1s 28ms/step - loss: 1.0993 - accuracy: 0.6055\n"
     ]
    },
    {
     "data": {
      "text/plain": [
       "[1.0992614030838013, 0.6054564714431763]"
      ]
     },
     "execution_count": 22,
     "metadata": {},
     "output_type": "execute_result"
    }
   ],
   "source": [
    "model.evaluate(x_val, y_val)"
   ]
  },
  {
   "cell_type": "code",
   "execution_count": null,
   "metadata": {},
   "outputs": [],
   "source": []
  },
  {
   "cell_type": "code",
   "execution_count": null,
   "metadata": {},
   "outputs": [],
   "source": []
  },
  {
   "cell_type": "code",
   "execution_count": null,
   "metadata": {},
   "outputs": [],
   "source": []
  },
  {
   "cell_type": "code",
   "execution_count": null,
   "metadata": {},
   "outputs": [],
   "source": []
  }
 ],
 "metadata": {
  "kernelspec": {
   "display_name": "Python 3 (ipykernel)",
   "language": "python",
   "name": "python3"
  },
  "language_info": {
   "codemirror_mode": {
    "name": "ipython",
    "version": 3
   },
   "file_extension": ".py",
   "mimetype": "text/x-python",
   "name": "python",
   "nbconvert_exporter": "python",
   "pygments_lexer": "ipython3",
   "version": "3.10.2"
  }
 },
 "nbformat": 4,
 "nbformat_minor": 2
}
