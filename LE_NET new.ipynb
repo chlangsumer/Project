{
 "cells": [
  {
   "cell_type": "code",
   "execution_count": 1,
   "metadata": {},
   "outputs": [
    {
     "name": "stdout",
     "output_type": "stream",
     "text": [
      "Wed Nov 29 20:24:56 2023       \n",
      "+---------------------------------------------------------------------------------------+\n",
      "| NVIDIA-SMI 531.68                 Driver Version: 531.68       CUDA Version: 12.1     |\n",
      "|-----------------------------------------+----------------------+----------------------+\n",
      "| GPU  Name                      TCC/WDDM | Bus-Id        Disp.A | Volatile Uncorr. ECC |\n",
      "| Fan  Temp  Perf            Pwr:Usage/Cap|         Memory-Usage | GPU-Util  Compute M. |\n",
      "|                                         |                      |               MIG M. |\n",
      "|=========================================+======================+======================|\n",
      "|   0  NVIDIA GeForce RTX 3050 L...  WDDM | 00000000:01:00.0 Off |                  N/A |\n",
      "| N/A   34C    P8                6W /  N/A|     57MiB /  4096MiB |      0%      Default |\n",
      "|                                         |                      |                  N/A |\n",
      "+-----------------------------------------+----------------------+----------------------+\n",
      "                                                                                         \n",
      "+---------------------------------------------------------------------------------------+\n",
      "| Processes:                                                                            |\n",
      "|  GPU   GI   CI        PID   Type   Process name                            GPU Memory |\n",
      "|        ID   ID                                                             Usage      |\n",
      "|=======================================================================================|\n",
      "|    0   N/A  N/A       976    C+G   ...x64__qmba6cd70vzyy\\ArmouryCrate.exe    N/A      |\n",
      "|    0   N/A  N/A      3024    C+G   C:\\Windows\\System32\\dwm.exe               N/A      |\n",
      "|    0   N/A  N/A      4060    C+G   ...nt.CBS_cw5n1h2txyewy\\SearchHost.exe    N/A      |\n",
      "|    0   N/A  N/A     10120    C+G   ...2txyewy\\StartMenuExperienceHost.exe    N/A      |\n",
      "|    0   N/A  N/A     16168    C+G   ...CBS_cw5n1h2txyewy\\TextInputHost.exe    N/A      |\n",
      "|    0   N/A  N/A     16920    C+G   ...ekyb3d8bbwe\\PhoneExperienceHost.exe    N/A      |\n",
      "|    0   N/A  N/A     20216    C+G   ...6.0_x64__cv1g1gvanyjgm\\WhatsApp.exe    N/A      |\n",
      "+---------------------------------------------------------------------------------------+\n"
     ]
    }
   ],
   "source": [
    "!nvidia-smi"
   ]
  },
  {
   "cell_type": "code",
   "execution_count": 2,
   "metadata": {},
   "outputs": [
    {
     "ename": "ModuleNotFoundError",
     "evalue": "No module named 'tensorflow'",
     "output_type": "error",
     "traceback": [
      "\u001b[1;31m---------------------------------------------------------------------------\u001b[0m",
      "\u001b[1;31mModuleNotFoundError\u001b[0m                       Traceback (most recent call last)",
      "Cell \u001b[1;32mIn[2], line 1\u001b[0m\n\u001b[1;32m----> 1\u001b[0m \u001b[38;5;28;01mimport\u001b[39;00m \u001b[38;5;21;01mtensorflow\u001b[39;00m \u001b[38;5;28;01mas\u001b[39;00m \u001b[38;5;21;01mtf\u001b[39;00m\n\u001b[0;32m      2\u001b[0m \u001b[38;5;28;01mimport\u001b[39;00m \u001b[38;5;21;01mkeras\u001b[39;00m\n\u001b[0;32m      3\u001b[0m \u001b[38;5;28;01mfrom\u001b[39;00m \u001b[38;5;21;01mkeras\u001b[39;00m\u001b[38;5;21;01m.\u001b[39;00m\u001b[38;5;21;01mlayers\u001b[39;00m \u001b[38;5;28;01mimport\u001b[39;00m Conv2D, MaxPooling2D\n",
      "\u001b[1;31mModuleNotFoundError\u001b[0m: No module named 'tensorflow'"
     ]
    }
   ],
   "source": [
    "import tensorflow as tf\n",
    "import keras\n",
    "from keras.layers import Conv2D, MaxPooling2D\n",
    "from keras.layers import Dense, Flatten\n",
    "from keras.models import Sequential"
   ]
  },
  {
   "cell_type": "code",
   "execution_count": 4,
   "metadata": {},
   "outputs": [],
   "source": [
    "import cv2\n",
    "import os\n",
    "import numpy as np\n",
    "import seaborn as sns\n",
    "data_dir = \"Data\"\n",
    "\n",
    "labels = ['cats','dogs']\n",
    "img_size = 32\n",
    "def get_data(data_dir):\n",
    "    data = [] \n",
    "    for label in labels: \n",
    "        path = os.path.join(data_dir, label)\n",
    "        class_num = labels.index(label)\n",
    "        for img in os.listdir(path):\n",
    "            try:\n",
    "                img_arr = cv2.imread(os.path.join(path, img))[...,::-1] #convert BGR to RGB format\n",
    "                resized_arr = cv2.resize(img_arr, (img_size, img_size)) # Reshaping images to preferred size\n",
    "                data.append([resized_arr, class_num])\n",
    "            except Exception as e:\n",
    "                print(e)\n",
    "    return np.array(data)"
   ]
  },
  {
   "cell_type": "code",
   "execution_count": 8,
   "metadata": {},
   "outputs": [
    {
     "name": "stderr",
     "output_type": "stream",
     "text": [
      "C:\\Users\\Chlangdiam Sumer\\AppData\\Local\\Temp\\ipykernel_10196\\661556943.py:21: VisibleDeprecationWarning: Creating an ndarray from ragged nested sequences (which is a list-or-tuple of lists-or-tuples-or ndarrays with different lengths or shapes) is deprecated. If you meant to do this, you must specify 'dtype=object' when creating the ndarray.\n",
      "  return np.array(data)\n"
     ]
    }
   ],
   "source": [
    "train = get_data(r\"C:\\Users\\Chlangdiam Sumer\\OneDrive\\Desktop\\M. Tech\\M. Tech Thesis\\4th Sem\\Data\\train\")\n",
    "val = get_data(r\"C:\\Users\\Chlangdiam Sumer\\OneDrive\\Desktop\\M. Tech\\M. Tech Thesis\\4th Sem\\Data\\test\")\n",
    "l = []\n",
    "for i in train:\n",
    "    if(i[1] == 0):\n",
    "        l.append(\"cats\")\n",
    "    else:\n",
    "        l.append(\"dogs\")\n",
    "# sns.set_style('darkgrid')\n",
    "# sns.countplot(l)"
   ]
  },
  {
   "cell_type": "code",
   "execution_count": 9,
   "metadata": {},
   "outputs": [
    {
     "name": "stdout",
     "output_type": "stream",
     "text": [
      "2\n"
     ]
    }
   ],
   "source": [
    "num_classes = len(labels)\n",
    "print(num_classes)"
   ]
  },
  {
   "cell_type": "code",
   "execution_count": 10,
   "metadata": {},
   "outputs": [],
   "source": [
    "x_train = []\n",
    "y_train = []\n",
    "x_val = []\n",
    "y_val = []\n",
    "\n",
    "for feature, label in train:\n",
    "    x_train.append(feature)\n",
    "    y_train.append(label)\n",
    "\n",
    "for feature, label in val:\n",
    "    x_val.append(feature)\n",
    "    y_val.append(label)\n",
    "\n",
    "# Normalize the data\n",
    "x_train = np.array(x_train) / 255\n",
    "x_val = np.array(x_val) / 255\n",
    "\n",
    "x_train.reshape(-1, img_size, img_size, 1)\n",
    "y_train = np.array(y_train)\n",
    "\n",
    "x_val.reshape(-1, img_size, img_size, 1)\n",
    "y_val = np.array(y_val)"
   ]
  },
  {
   "cell_type": "code",
   "execution_count": 11,
   "metadata": {},
   "outputs": [],
   "source": [
    "# Building the Model Architecture\n",
    "model = Sequential()\n",
    "# Select 6 feature convolution kernels with a size of 5 * 5 (without offset), and get 66 feature maps. The size of each feature map is 32−5 + 1 = 2832−5 + 1 = 28.\n",
    "# That is, the number of neurons has been reduced from 10241024 to 28 ∗ 28 = 784 28 ∗ 28 = 784.\n",
    "# Parameters between input layer and C1 layer: 6 ∗ (5 ∗ 5 + 1)\n",
    "model.add(Conv2D(6, kernel_size=(5, 5), activation='relu', input_shape=(img_size,img_size,3)))\n",
    "# The input of this layer is the output of the first layer, which is a 28 * 28 * 6 node matrix.\n",
    "# The size of the filter used in this layer is 2 * 2, and the step length and width are both 2, so the output matrix size of this layer is 14 * 14 * 6.\n",
    "model.add(MaxPooling2D(pool_size=(2, 2)))\n",
    "# The input matrix size of this layer is 14 * 14 * 6, the filter size used is 5 * 5, and the depth is 16. This layer does not use all 0 padding, and the step size is 1.\n",
    "# The output matrix size of this layer is 10 * 10 * 16. This layer has 5 * 5 * 6 * 16 + 16 = 2416 parameters\n",
    "model.add(Conv2D(16, kernel_size=(5, 5), activation='relu'))\n",
    "# The input matrix size of this layer is 10 * 10 * 16. The size of the filter used in this layer is 2 * 2, and the length and width steps are both 2, so the output matrix size of this layer is 5 * 5 * 16.\n",
    "model.add(MaxPooling2D(pool_size=(2, 2)))\n",
    "# The input matrix size of this layer is 5 * 5 * 16. This layer is called a convolution layer in the LeNet-5 paper, but because the size of the filter is 5 * 5, #\n",
    "# So it is not different from the fully connected layer. If the nodes in the 5 * 5 * 16 matrix are pulled into a vector, then this layer is the same as the fully connected layer.\n",
    "# The number of output nodes in this layer is 120, with a total of 5 * 5 * 16 * 120 + 120 = 48120 parameters.\n",
    "model.add(Flatten())\n",
    "model.add(Dense(4000,activation=\"relu\"))\n",
    "model.add(Dense(1000,activation=\"relu\"))\n",
    "model.add(Dense(100,activation=\"relu\"))\n",
    "model.add(Dense(num_classes, activation=\"sigmoid\"))"
   ]
  },
  {
   "cell_type": "code",
   "execution_count": 12,
   "metadata": {},
   "outputs": [
    {
     "name": "stdout",
     "output_type": "stream",
     "text": [
      "Model: \"sequential\"\n",
      "_________________________________________________________________\n",
      " Layer (type)                Output Shape              Param #   \n",
      "=================================================================\n",
      " conv2d (Conv2D)             (None, 28, 28, 6)         456       \n",
      "                                                                 \n",
      " max_pooling2d (MaxPooling2D  (None, 14, 14, 6)        0         \n",
      " )                                                               \n",
      "                                                                 \n",
      " conv2d_1 (Conv2D)           (None, 10, 10, 16)        2416      \n",
      "                                                                 \n",
      " max_pooling2d_1 (MaxPooling  (None, 5, 5, 16)         0         \n",
      " 2D)                                                             \n",
      "                                                                 \n",
      " flatten (Flatten)           (None, 400)               0         \n",
      "                                                                 \n",
      " dense (Dense)               (None, 4000)              1604000   \n",
      "                                                                 \n",
      " dense_1 (Dense)             (None, 1000)              4001000   \n",
      "                                                                 \n",
      " dense_2 (Dense)             (None, 100)               100100    \n",
      "                                                                 \n",
      " dense_3 (Dense)             (None, 2)                 202       \n",
      "                                                                 \n",
      "=================================================================\n",
      "Total params: 5,708,174\n",
      "Trainable params: 5,708,174\n",
      "Non-trainable params: 0\n",
      "_________________________________________________________________\n"
     ]
    },
    {
     "name": "stderr",
     "output_type": "stream",
     "text": [
      "C:\\Users\\Chlangdiam Sumer\\AppData\\Local\\Programs\\Python\\Python310\\lib\\site-packages\\keras\\optimizers\\optimizer_v2\\gradient_descent.py:111: UserWarning: The `lr` argument is deprecated, use `learning_rate` instead.\n",
      "  super().__init__(name, **kwargs)\n"
     ]
    },
    {
     "name": "stdout",
     "output_type": "stream",
     "text": [
      "Train size: 8005\n",
      "Test size: 2023\n"
     ]
    }
   ],
   "source": [
    "import tensorflow as tf\n",
    "model.compile(\n",
    "    loss='sparse_categorical_crossentropy',\n",
    "    optimizer=tf.optimizers.SGD(lr=0.000001),\n",
    "    metrics=['accuracy']    \n",
    ")\n",
    "model.summary()\n",
    "\n",
    "\n",
    "train_ds=tf.data.Dataset.from_tensor_slices((x_train,y_train))\n",
    "test_ds=tf.data.Dataset.from_tensor_slices((x_val,y_val))\n",
    "\n",
    "\n",
    "def process_image(image,label):\n",
    "    image=tf.image.per_image_standardization(image)\n",
    "    image=tf.image.resize(image,(img_size,img_size))\n",
    "    \n",
    "    return image,label\n",
    "\n",
    "\n",
    "\n",
    "train_ds_size=tf.data.experimental.cardinality(train_ds).numpy()\n",
    "test_ds_size=tf.data.experimental.cardinality(test_ds).numpy()\n",
    "print('Train size:',train_ds_size)\n",
    "print('Test size:',test_ds_size)\n",
    "\n",
    "\n",
    "\n",
    "train_ds=(train_ds\n",
    "          .map(process_image)\n",
    "          .shuffle(buffer_size=train_ds_size)\n",
    "          .batch(batch_size=32,drop_remainder=True)\n",
    "         )\n",
    "test_ds=(test_ds\n",
    "          .map(process_image)\n",
    "          .shuffle(buffer_size=test_ds_size)\n",
    "          .batch(batch_size=32,drop_remainder=True)\n",
    "         )"
   ]
  },
  {
   "cell_type": "code",
   "execution_count": 13,
   "metadata": {},
   "outputs": [
    {
     "name": "stderr",
     "output_type": "stream",
     "text": [
      "C:\\Users\\Chlangdiam Sumer\\AppData\\Local\\Programs\\Python\\Python310\\lib\\site-packages\\keras\\optimizers\\optimizer_v2\\adam.py:114: UserWarning: The `lr` argument is deprecated, use `learning_rate` instead.\n",
      "  super().__init__(name, **kwargs)\n"
     ]
    }
   ],
   "source": [
    "from keras.optimizers import Adam\n",
    "opt = Adam(lr=0.000001)\n",
    "model.compile(optimizer = opt , loss = tf.keras.losses.SparseCategoricalCrossentropy(from_logits=True) , metrics = ['accuracy'])"
   ]
  },
  {
   "cell_type": "code",
   "execution_count": null,
   "metadata": {},
   "outputs": [
    {
     "name": "stdout",
     "output_type": "stream",
     "text": [
      "Epoch 1/50\n"
     ]
    },
    {
     "name": "stderr",
     "output_type": "stream",
     "text": [
      "C:\\Users\\Chlangdiam Sumer\\AppData\\Local\\Programs\\Python\\Python310\\lib\\site-packages\\keras\\backend.py:5582: UserWarning: \"`sparse_categorical_crossentropy` received `from_logits=True`, but the `output` argument was produced by a Softmax activation and thus does not represent logits. Was this intended?\n",
      "  output, from_logits = _get_logits(\n"
     ]
    },
    {
     "name": "stdout",
     "output_type": "stream",
     "text": [
      "251/251 [==============================] - 9s 7ms/step - loss: 0.6896 - accuracy: 0.5385 - val_loss: 0.6871 - val_accuracy: 0.5571\n",
      "Epoch 2/50\n",
      "251/251 [==============================] - 1s 6ms/step - loss: 0.6864 - accuracy: 0.5620 - val_loss: 0.6839 - val_accuracy: 0.5764\n",
      "Epoch 3/50\n",
      "251/251 [==============================] - 1s 6ms/step - loss: 0.6835 - accuracy: 0.5739 - val_loss: 0.6818 - val_accuracy: 0.5675\n",
      "Epoch 4/50\n",
      "251/251 [==============================] - 1s 6ms/step - loss: 0.6810 - accuracy: 0.5853 - val_loss: 0.6793 - val_accuracy: 0.5996\n",
      "Epoch 5/50\n",
      "251/251 [==============================] - 1s 6ms/step - loss: 0.6790 - accuracy: 0.5948 - val_loss: 0.6768 - val_accuracy: 0.6065\n",
      "Epoch 6/50\n",
      "251/251 [==============================] - 1s 6ms/step - loss: 0.6767 - accuracy: 0.5996 - val_loss: 0.6758 - val_accuracy: 0.5833\n",
      "Epoch 7/50\n",
      "251/251 [==============================] - 1s 6ms/step - loss: 0.6745 - accuracy: 0.6031 - val_loss: 0.6726 - val_accuracy: 0.6179\n",
      "Epoch 8/50\n",
      "251/251 [==============================] - 1s 6ms/step - loss: 0.6724 - accuracy: 0.6072 - val_loss: 0.6710 - val_accuracy: 0.6154\n",
      "Epoch 9/50\n",
      "251/251 [==============================] - 1s 6ms/step - loss: 0.6702 - accuracy: 0.6149 - val_loss: 0.6690 - val_accuracy: 0.6243\n",
      "Epoch 10/50\n",
      "251/251 [==============================] - 1s 6ms/step - loss: 0.6681 - accuracy: 0.6207 - val_loss: 0.6684 - val_accuracy: 0.6006\n",
      "Epoch 11/50\n",
      "251/251 [==============================] - 1s 6ms/step - loss: 0.6663 - accuracy: 0.6190 - val_loss: 0.6652 - val_accuracy: 0.6298\n",
      "Epoch 12/50\n",
      "251/251 [==============================] - 1s 6ms/step - loss: 0.6641 - accuracy: 0.6275 - val_loss: 0.6640 - val_accuracy: 0.6243\n",
      "Epoch 13/50\n",
      "251/251 [==============================] - 1s 6ms/step - loss: 0.6621 - accuracy: 0.6270 - val_loss: 0.6615 - val_accuracy: 0.6322\n",
      "Epoch 14/50\n",
      "251/251 [==============================] - 1s 6ms/step - loss: 0.6600 - accuracy: 0.6315 - val_loss: 0.6599 - val_accuracy: 0.6322\n",
      "Epoch 15/50\n",
      "251/251 [==============================] - 1s 6ms/step - loss: 0.6579 - accuracy: 0.6360 - val_loss: 0.6582 - val_accuracy: 0.6382\n",
      "Epoch 16/50\n",
      "251/251 [==============================] - 1s 6ms/step - loss: 0.6558 - accuracy: 0.6322 - val_loss: 0.6563 - val_accuracy: 0.6421\n",
      "Epoch 17/50\n",
      "251/251 [==============================] - 1s 6ms/step - loss: 0.6539 - accuracy: 0.6403 - val_loss: 0.6550 - val_accuracy: 0.6288\n",
      "Epoch 18/50\n",
      "251/251 [==============================] - 1s 6ms/step - loss: 0.6519 - accuracy: 0.6402 - val_loss: 0.6535 - val_accuracy: 0.6258\n",
      "Epoch 19/50\n",
      "251/251 [==============================] - 1s 6ms/step - loss: 0.6499 - accuracy: 0.6472 - val_loss: 0.6509 - val_accuracy: 0.6515\n",
      "Epoch 20/50\n",
      "251/251 [==============================] - 1s 6ms/step - loss: 0.6479 - accuracy: 0.6428 - val_loss: 0.6490 - val_accuracy: 0.6520\n",
      "Epoch 21/50\n",
      "251/251 [==============================] - 1s 6ms/step - loss: 0.6455 - accuracy: 0.6486 - val_loss: 0.6473 - val_accuracy: 0.6515\n",
      "Epoch 22/50\n",
      "251/251 [==============================] - 1s 6ms/step - loss: 0.6435 - accuracy: 0.6502 - val_loss: 0.6457 - val_accuracy: 0.6505\n",
      "Epoch 23/50\n",
      "251/251 [==============================] - 2s 6ms/step - loss: 0.6418 - accuracy: 0.6497 - val_loss: 0.6447 - val_accuracy: 0.6461\n",
      "Epoch 24/50\n",
      "251/251 [==============================] - 1s 6ms/step - loss: 0.6398 - accuracy: 0.6513 - val_loss: 0.6424 - val_accuracy: 0.6510\n",
      "Epoch 25/50\n",
      "251/251 [==============================] - 1s 6ms/step - loss: 0.6381 - accuracy: 0.6516 - val_loss: 0.6410 - val_accuracy: 0.6530\n",
      "Epoch 26/50\n",
      "251/251 [==============================] - 1s 6ms/step - loss: 0.6366 - accuracy: 0.6525 - val_loss: 0.6395 - val_accuracy: 0.6505\n",
      "Epoch 27/50\n",
      "251/251 [==============================] - 1s 6ms/step - loss: 0.6353 - accuracy: 0.6538 - val_loss: 0.6383 - val_accuracy: 0.6505\n",
      "Epoch 28/50\n",
      "251/251 [==============================] - 1s 6ms/step - loss: 0.6336 - accuracy: 0.6513 - val_loss: 0.6370 - val_accuracy: 0.6520\n",
      "Epoch 29/50\n",
      "251/251 [==============================] - 1s 6ms/step - loss: 0.6320 - accuracy: 0.6555 - val_loss: 0.6358 - val_accuracy: 0.6510\n",
      "Epoch 30/50\n",
      "251/251 [==============================] - 1s 6ms/step - loss: 0.6308 - accuracy: 0.6572 - val_loss: 0.6345 - val_accuracy: 0.6515\n",
      "Epoch 31/50\n",
      "251/251 [==============================] - 2s 6ms/step - loss: 0.6292 - accuracy: 0.6600 - val_loss: 0.6335 - val_accuracy: 0.6525\n",
      "Epoch 32/50\n",
      "251/251 [==============================] - 1s 6ms/step - loss: 0.6282 - accuracy: 0.6577 - val_loss: 0.6328 - val_accuracy: 0.6520\n",
      "Epoch 33/50\n",
      "251/251 [==============================] - 1s 6ms/step - loss: 0.6266 - accuracy: 0.6586 - val_loss: 0.6313 - val_accuracy: 0.6540\n",
      "Epoch 34/50\n",
      "251/251 [==============================] - 1s 6ms/step - loss: 0.6254 - accuracy: 0.6586 - val_loss: 0.6322 - val_accuracy: 0.6495\n",
      "Epoch 35/50\n",
      "251/251 [==============================] - 1s 6ms/step - loss: 0.6239 - accuracy: 0.6600 - val_loss: 0.6307 - val_accuracy: 0.6574\n",
      "Epoch 36/50\n",
      "251/251 [==============================] - 1s 6ms/step - loss: 0.6236 - accuracy: 0.6572 - val_loss: 0.6286 - val_accuracy: 0.6540\n",
      "Epoch 37/50\n",
      "251/251 [==============================] - 1s 6ms/step - loss: 0.6220 - accuracy: 0.6607 - val_loss: 0.6284 - val_accuracy: 0.6545\n",
      "Epoch 38/50\n",
      "251/251 [==============================] - 1s 6ms/step - loss: 0.6214 - accuracy: 0.6618 - val_loss: 0.6270 - val_accuracy: 0.6530\n",
      "Epoch 39/50\n",
      "251/251 [==============================] - 1s 6ms/step - loss: 0.6198 - accuracy: 0.6628 - val_loss: 0.6261 - val_accuracy: 0.6599\n",
      "Epoch 40/50\n",
      "251/251 [==============================] - 1s 6ms/step - loss: 0.6191 - accuracy: 0.6627 - val_loss: 0.6256 - val_accuracy: 0.6560\n",
      "Epoch 41/50\n",
      "251/251 [==============================] - 1s 6ms/step - loss: 0.6179 - accuracy: 0.6613 - val_loss: 0.6261 - val_accuracy: 0.6525\n",
      "Epoch 42/50\n",
      "251/251 [==============================] - 1s 6ms/step - loss: 0.6171 - accuracy: 0.6650 - val_loss: 0.6239 - val_accuracy: 0.6574\n",
      "Epoch 43/50\n",
      "251/251 [==============================] - 1s 6ms/step - loss: 0.6161 - accuracy: 0.6675 - val_loss: 0.6240 - val_accuracy: 0.6579\n",
      "Epoch 44/50\n",
      "251/251 [==============================] - 1s 6ms/step - loss: 0.6153 - accuracy: 0.6653 - val_loss: 0.6232 - val_accuracy: 0.6604\n",
      "Epoch 45/50\n",
      "251/251 [==============================] - 1s 6ms/step - loss: 0.6147 - accuracy: 0.6645 - val_loss: 0.6229 - val_accuracy: 0.6589\n",
      "Epoch 46/50\n",
      "251/251 [==============================] - 1s 6ms/step - loss: 0.6137 - accuracy: 0.6672 - val_loss: 0.6219 - val_accuracy: 0.6574\n",
      "Epoch 47/50\n",
      "251/251 [==============================] - 1s 6ms/step - loss: 0.6130 - accuracy: 0.6687 - val_loss: 0.6212 - val_accuracy: 0.6599\n",
      "Epoch 48/50\n",
      "251/251 [==============================] - 1s 6ms/step - loss: 0.6123 - accuracy: 0.6642 - val_loss: 0.6205 - val_accuracy: 0.6599\n",
      "Epoch 49/50\n",
      "251/251 [==============================] - 1s 6ms/step - loss: 0.6112 - accuracy: 0.6683 - val_loss: 0.6211 - val_accuracy: 0.6555\n",
      "Epoch 50/50\n",
      "143/251 [================>.............] - ETA: 0s - loss: 0.6070 - accuracy: 0.6722"
     ]
    }
   ],
   "source": [
    "history = model.fit(x_train,y_train,epochs = 50 , validation_data = (x_val, y_val))"
   ]
  },
  {
   "cell_type": "code",
   "execution_count": null,
   "metadata": {},
   "outputs": [],
   "source": [
    "import matplotlib.pyplot as plt\n",
    "# plot the accuracy\n",
    "plt.plot(history.history['accuracy'], label='training acc')\n",
    "plt.plot(history.history['val_accuracy'], label='validation acc')\n",
    "plt.title('Training and Validation Accuracy')\n",
    "plt.ylabel(\"Accuracy\")\n",
    "plt.xlabel(\"Epoch\")\n",
    "plt.legend()\n",
    "plt.show()\n",
    "#plt.savefig('AccVal_acc')\n",
    " \n",
    "# plot the loss\n",
    "plt.plot(history.history['loss'], label='training loss')\n",
    "plt.plot(history.history['val_loss'], label='validation loss')\n",
    "plt.title('Training and Validation Loss')\n",
    "plt.ylabel(\"Accuracy\")\n",
    "plt.xlabel(\"Epoch\")\n",
    "plt.legend()\n",
    "plt.show()\n",
    "#plt.savefig('LossVal_loss')"
   ]
  },
  {
   "cell_type": "code",
   "execution_count": null,
   "metadata": {},
   "outputs": [],
   "source": [
    "model.evaluate(x_val, y_val)"
   ]
  },
  {
   "cell_type": "code",
   "execution_count": 26,
   "metadata": {},
   "outputs": [
    {
     "data": {
      "image/png": "[encoded data removed]",
      "text/plain": [
       "<Figure size 1080x1080 with 2 Axes>"
      ]
     },
     "metadata": {
      "needs_background": "light"
     },
     "output_type": "display_data"
    },
    {
     "name": "stdout",
     "output_type": "stream",
     "text": [
      "30/30 [==============================] - 0s 6ms/step\n",
      "              precision    recall  f1-score   support\n",
      "\n",
      "         2S1       0.50      0.27      0.35       118\n",
      "      BRDM_2       0.55      0.74      0.63       142\n",
      "      BTR_60       0.67      0.86      0.75       136\n",
      "          D7       0.00      0.00      0.00        58\n",
      "       SLICY       0.86      0.96      0.91       127\n",
      "         T62       0.47      0.56      0.51       116\n",
      "      ZIL131       0.55      0.19      0.28       115\n",
      "    ZSU_23_4       0.45      0.65      0.53       141\n",
      "\n",
      "    accuracy                           0.58       953\n",
      "   macro avg       0.51      0.53      0.50       953\n",
      "weighted avg       0.54      0.58      0.54       953\n",
      "\n",
      "[[ 32  35  30   0   1  12   3   5]\n",
      " [ 10 105  11   0   3   3   3   7]\n",
      " [  3   7 117   0   0   1   1   7]\n",
      " [  0   2   0   0   0  15  10  31]\n",
      " [  0   0   1   0 122   0   0   4]\n",
      " [  2   7   5   0   0  65   0  37]\n",
      " [  7  25   9   0   2  29  22  21]\n",
      " [ 10   9   2   0  14  14   1  91]]\n"
     ]
    },
    {
     "name": "stderr",
     "output_type": "stream",
     "text": [
      "C:\\Users\\Chlangdiam Sumer\\AppData\\Local\\Programs\\Python\\Python310\\lib\\site-packages\\sklearn\\metrics\\_classification.py:1318: UndefinedMetricWarning: Precision and F-score are ill-defined and being set to 0.0 in labels with no predicted samples. Use `zero_division` parameter to control this behavior.\n",
      "  _warn_prf(average, modifier, msg_start, len(result))\n",
      "C:\\Users\\Chlangdiam Sumer\\AppData\\Local\\Programs\\Python\\Python310\\lib\\site-packages\\sklearn\\metrics\\_classification.py:1318: UndefinedMetricWarning: Precision and F-score are ill-defined and being set to 0.0 in labels with no predicted samples. Use `zero_division` parameter to control this behavior.\n",
      "  _warn_prf(average, modifier, msg_start, len(result))\n",
      "C:\\Users\\Chlangdiam Sumer\\AppData\\Local\\Programs\\Python\\Python310\\lib\\site-packages\\sklearn\\metrics\\_classification.py:1318: UndefinedMetricWarning: Precision and F-score are ill-defined and being set to 0.0 in labels with no predicted samples. Use `zero_division` parameter to control this behavior.\n",
      "  _warn_prf(average, modifier, msg_start, len(result))\n",
      "C:\\Users\\Chlangdiam Sumer\\AppData\\Local\\Temp\\ipykernel_17800\\1166027356.py:44: UserWarning: FixedFormatter should only be used together with FixedLocator\n",
      "  ax.set_xticklabels([''] + labels)\n",
      "C:\\Users\\Chlangdiam Sumer\\AppData\\Local\\Temp\\ipykernel_17800\\1166027356.py:46: UserWarning: FixedFormatter should only be used together with FixedLocator\n",
      "  ax.set_yticklabels([''] + labels)\n"
     ]
    },
    {
     "data": {
      "image/png": "[encoded data removed]",
      "text/plain": [
       "<Figure size 432x288 with 2 Axes>"
      ]
     },
     "metadata": {
      "needs_background": "light"
     },
     "output_type": "display_data"
    },
    {
     "data": {
      "image/png": "[encoded data removed]",
      "text/plain": [
       "<Figure size 432x288 with 2 Axes>"
      ]
     },
     "metadata": {
      "needs_background": "light"
     },
     "output_type": "display_data"
    },
    {
     "name": "stdout",
     "output_type": "stream",
     "text": [
      "              precision    recall  f1-score   support\n",
      "\n",
      "         2S1       0.50      0.27      0.35       118\n",
      "      BRDM_2       0.55      0.74      0.63       142\n",
      "      BTR_60       0.67      0.86      0.75       136\n",
      "          D7       0.00      0.00      0.00        58\n",
      "       SLICY       0.86      0.96      0.91       127\n",
      "         T62       0.47      0.56      0.51       116\n",
      "      ZIL131       0.55      0.19      0.28       115\n",
      "    ZSU_23_4       0.45      0.65      0.53       141\n",
      "\n",
      "    accuracy                           0.58       953\n",
      "   macro avg       0.51      0.53      0.50       953\n",
      "weighted avg       0.54      0.58      0.54       953\n",
      "\n"
     ]
    },
    {
     "name": "stderr",
     "output_type": "stream",
     "text": [
      "C:\\Users\\Chlangdiam Sumer\\AppData\\Local\\Programs\\Python\\Python310\\lib\\site-packages\\sklearn\\metrics\\_classification.py:1318: UndefinedMetricWarning: Precision and F-score are ill-defined and being set to 0.0 in labels with no predicted samples. Use `zero_division` parameter to control this behavior.\n",
      "  _warn_prf(average, modifier, msg_start, len(result))\n",
      "C:\\Users\\Chlangdiam Sumer\\AppData\\Local\\Programs\\Python\\Python310\\lib\\site-packages\\sklearn\\metrics\\_classification.py:1318: UndefinedMetricWarning: Precision and F-score are ill-defined and being set to 0.0 in labels with no predicted samples. Use `zero_division` parameter to control this behavior.\n",
      "  _warn_prf(average, modifier, msg_start, len(result))\n",
      "C:\\Users\\Chlangdiam Sumer\\AppData\\Local\\Programs\\Python\\Python310\\lib\\site-packages\\sklearn\\metrics\\_classification.py:1318: UndefinedMetricWarning: Precision and F-score are ill-defined and being set to 0.0 in labels with no predicted samples. Use `zero_division` parameter to control this behavior.\n",
      "  _warn_prf(average, modifier, msg_start, len(result))\n"
     ]
    }
   ],
   "source": [
    "import matplotlib.pyplot as plt\n",
    "acc = history.history['accuracy']\n",
    "val_acc = history.history['val_accuracy']\n",
    "loss = history.history['loss']\n",
    "val_loss = history.history['val_loss']\n",
    "\n",
    "epochs_range = range(50)\n",
    "\n",
    "plt.figure(figsize=(15, 15))\n",
    "plt.subplot(2, 2, 1)\n",
    "plt.plot(epochs_range, acc, label='Training Accuracy')\n",
    "plt.plot(epochs_range, val_acc, label='Validation Accuracy')\n",
    "plt.legend(loc='lower right')\n",
    "plt.title('Training and Validation Accuracy')\n",
    "\n",
    "plt.subplot(2, 2, 2)\n",
    "plt.plot(epochs_range, loss, label='Training Loss')\n",
    "plt.plot(epochs_range, val_loss, label='Validation Loss')\n",
    "plt.legend(loc='upper right')\n",
    "plt.title('Training and Validation Loss')\n",
    "plt.show()\n",
    "\n",
    "from sklearn.metrics import classification_report\n",
    "import seaborn as sns\n",
    "predictions = np.argmax(model.predict(x_val), axis=-1)\n",
    "from sklearn.metrics import confusion_matrix\n",
    "print(classification_report(y_valA, predictions, target_names = ['2S1','BRDM_2','BTR_60','D7','SLICY','T62','ZIL131','ZSU_23_4']))\n",
    "\n",
    "cm = confusion_matrix(y_valA, predictions) \n",
    "sns.heatmap(cm, annot= True, fmt='d')\n",
    "\n",
    "print(cm) \n",
    "\n",
    "fig = plt.figure() \n",
    "\n",
    "ax = fig.add_subplot(111) \n",
    "\n",
    "cax = ax.matshow(cm) \n",
    "\n",
    "plt.title('Confusion matrix of the classifier') \n",
    "\n",
    "fig.colorbar(cax) \n",
    "\n",
    "ax.set_xticklabels([''] + labels) \n",
    "\n",
    "ax.set_yticklabels([''] + labels) \n",
    "\n",
    "plt.xlabel('Predicted') \n",
    "\n",
    "plt.ylabel('True') \n",
    "\n",
    "plt.show()\n",
    "\n",
    "\n",
    "\n",
    "\n",
    "\n",
    "print(classification_report(y_valA, predictions, target_names = ['2S1','BRDM_2','BTR_60','D7','SLICY','T62','ZIL131','ZSU_23_4']))"
   ]
  },
  {
   "cell_type": "code",
   "execution_count": null,
   "metadata": {},
   "outputs": [],
   "source": []
  }
 ],
 "metadata": {
  "kernelspec": {
   "display_name": "Python 3 (ipykernel)",
   "language": "python",
   "name": "python3"
  },
  "language_info": {
   "codemirror_mode": {
    "name": "ipython",
    "version": 3
   },
   "file_extension": ".py",
   "mimetype": "text/x-python",
   "name": "python",
   "nbconvert_exporter": "python",
   "pygments_lexer": "ipython3",
   "version": "3.11.5"
  }
 },
 "nbformat": 4,
 "nbformat_minor": 2
}
